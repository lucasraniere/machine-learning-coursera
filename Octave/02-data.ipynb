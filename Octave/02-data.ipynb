{
 "cells": [
  {
   "cell_type": "markdown",
   "metadata": {},
   "source": [
    "# __Octave Data Management__"
   ]
  },
  {
   "cell_type": "markdown",
   "metadata": {},
   "source": [
    "## Size Functions"
   ]
  },
  {
   "cell_type": "code",
   "execution_count": 1,
   "metadata": {},
   "outputs": [
    {
     "name": "stdout",
     "output_type": "stream",
     "text": [
      "A =\n",
      "\n",
      "   1   2\n",
      "   3   4\n",
      "   5   6\n",
      "\n",
      "v =\n",
      "\n",
      "   1   2   3   4\n",
      "\n"
     ]
    }
   ],
   "source": [
    "A = [1 2; 3 4; 5 6] % matrix\n",
    "v = [1 2 3 4] % vector"
   ]
  },
  {
   "cell_type": "code",
   "execution_count": 2,
   "metadata": {},
   "outputs": [
    {
     "name": "stdout",
     "output_type": "stream",
     "text": [
      "ans =\n",
      "\n",
      "   3   2\n",
      "\n"
     ]
    }
   ],
   "source": [
    "size(A) % matrix dimension"
   ]
  },
  {
   "cell_type": "code",
   "execution_count": 3,
   "metadata": {},
   "outputs": [
    {
     "name": "stdout",
     "output_type": "stream",
     "text": [
      "ans = 3\n",
      "ans = 2\n"
     ]
    }
   ],
   "source": [
    "size(A, 1) % size of the first dimension (rows)\n",
    "size(A, 2) % size of the second dimension (columns)"
   ]
  },
  {
   "cell_type": "code",
   "execution_count": 4,
   "metadata": {},
   "outputs": [
    {
     "name": "stdout",
     "output_type": "stream",
     "text": [
      "ans = 4\n"
     ]
    }
   ],
   "source": [
    "length(v)"
   ]
  },
  {
   "cell_type": "markdown",
   "metadata": {},
   "source": [
    "## Loading Data"
   ]
  },
  {
   "cell_type": "code",
   "execution_count": 5,
   "metadata": {},
   "outputs": [],
   "source": [
    "load ex1data1.txt"
   ]
  },
  {
   "cell_type": "code",
   "execution_count": 6,
   "metadata": {},
   "outputs": [],
   "source": [
    "B = load('ex1data1.txt'); % another way to load"
   ]
  },
  {
   "cell_type": "markdown",
   "metadata": {},
   "source": [
    "## Saving Data"
   ]
  },
  {
   "cell_type": "code",
   "execution_count": 7,
   "metadata": {},
   "outputs": [],
   "source": [
    "save data_exp.dat B"
   ]
  },
  {
   "cell_type": "code",
   "execution_count": 8,
   "metadata": {},
   "outputs": [
    {
     "name": "stdout",
     "output_type": "stream",
     "text": [
      "ans =\n",
      "\n",
      "   97    2\n",
      "\n"
     ]
    }
   ],
   "source": [
    "size(B)"
   ]
  },
  {
   "cell_type": "markdown",
   "metadata": {},
   "source": [
    "## Manipulating Data"
   ]
  },
  {
   "cell_type": "code",
   "execution_count": 9,
   "metadata": {},
   "outputs": [
    {
     "name": "stdout",
     "output_type": "stream",
     "text": [
      "ans = 6\n",
      "ans =\n",
      "\n",
      "   3   4\n",
      "\n",
      "ans =\n",
      "\n",
      "   2\n",
      "   4\n",
      "   6\n",
      "\n"
     ]
    }
   ],
   "source": [
    "A(3, 2) % returns the 3rd row and 2nd colummn  \n",
    "A(2, :) % returns all the elements of the row 2\n",
    "A(:, 2) % returns all the elements of the column 2"
   ]
  },
  {
   "cell_type": "code",
   "execution_count": 10,
   "metadata": {},
   "outputs": [
    {
     "name": "stdout",
     "output_type": "stream",
     "text": [
      "ans =\n",
      "\n",
      "   1   2\n",
      "   5   6\n",
      "\n"
     ]
    }
   ],
   "source": [
    "A([1 3], :) % returns all the elements of the rows 1 and 3"
   ]
  },
  {
   "cell_type": "code",
   "execution_count": 11,
   "metadata": {},
   "outputs": [
    {
     "name": "stdout",
     "output_type": "stream",
     "text": [
      "A =\n",
      "\n",
      "    1   10\n",
      "    3   11\n",
      "    5   12\n",
      "\n"
     ]
    }
   ],
   "source": [
    "A(:, 2) = [10; 11; 12] % assigning new values to the elements of the 2nd column"
   ]
  },
  {
   "cell_type": "code",
   "execution_count": 12,
   "metadata": {},
   "outputs": [],
   "source": [
    "A = [A, [100; 101; 102]]; % append another column vector to the right"
   ]
  },
  {
   "cell_type": "code",
   "execution_count": 13,
   "metadata": {},
   "outputs": [
    {
     "name": "stdout",
     "output_type": "stream",
     "text": [
      "ans =\n",
      "\n",
      "     1\n",
      "     3\n",
      "     5\n",
      "    10\n",
      "    11\n",
      "    12\n",
      "   100\n",
      "   101\n",
      "   102\n",
      "\n"
     ]
    }
   ],
   "source": [
    "A(:) % put all elements of A into a single column vector"
   ]
  },
  {
   "cell_type": "code",
   "execution_count": 14,
   "metadata": {},
   "outputs": [
    {
     "name": "stdout",
     "output_type": "stream",
     "text": [
      "A =\n",
      "\n",
      "   1   2\n",
      "   3   4\n",
      "   5   6\n",
      "\n",
      "B =\n",
      "\n",
      "   11   12\n",
      "   13   14\n",
      "   15   16\n",
      "\n"
     ]
    }
   ],
   "source": [
    "A = [1 2; 3 4; 5 6]\n",
    "B = [11 12; 13 14; 15 16]"
   ]
  },
  {
   "cell_type": "code",
   "execution_count": 15,
   "metadata": {},
   "outputs": [
    {
     "name": "stdout",
     "output_type": "stream",
     "text": [
      "C =\n",
      "\n",
      "    1    2   11   12\n",
      "    3    4   13   14\n",
      "    5    6   15   16\n",
      "\n"
     ]
    }
   ],
   "source": [
    "C = [A B] % concatenating two matrices"
   ]
  },
  {
   "cell_type": "code",
   "execution_count": 16,
   "metadata": {},
   "outputs": [
    {
     "name": "stdout",
     "output_type": "stream",
     "text": [
      "D =\n",
      "\n",
      "    1    2\n",
      "    3    4\n",
      "    5    6\n",
      "   11   12\n",
      "   13   14\n",
      "   15   16\n",
      "\n"
     ]
    }
   ],
   "source": [
    "D = [A; B]"
   ]
  }
 ],
 "metadata": {
  "kernelspec": {
   "display_name": "Octave",
   "language": "octave",
   "name": "octave"
  },
  "language_info": {
   "file_extension": ".m",
   "help_links": [
    {
     "text": "GNU Octave",
     "url": "https://www.gnu.org/software/octave/support.html"
    },
    {
     "text": "Octave Kernel",
     "url": "https://github.com/Calysto/octave_kernel"
    },
    {
     "text": "MetaKernel Magics",
     "url": "https://metakernel.readthedocs.io/en/latest/source/README.html"
    }
   ],
   "mimetype": "text/x-octave",
   "name": "octave",
   "version": "6.1.1~hg.2021.01.26"
  }
 },
 "nbformat": 4,
 "nbformat_minor": 4
}
